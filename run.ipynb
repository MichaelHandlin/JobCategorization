{
 "cells": [
  {
   "cell_type": "code",
   "execution_count": 19,
   "metadata": {},
   "outputs": [],
   "source": [
    "import pandas as pd\n",
    "import numpy as np\n",
    "from sklearn.model_selection import train_test_split"
   ]
  },
  {
   "cell_type": "code",
   "execution_count": 16,
   "metadata": {},
   "outputs": [],
   "source": [
    "data = pd.read_csv('data.csv')\n",
    "all_y = data['SOC Job Title']\n",
    "labs, counts = np.unique(all_y, return_counts=True)"
   ]
  },
  {
   "cell_type": "code",
   "execution_count": 17,
   "metadata": {},
   "outputs": [],
   "source": [
    "flt_labs = labs[counts > 25]\n",
    "flt_data = data[np.isin(all_y,flt_labs)]"
   ]
  },
  {
   "cell_type": "code",
   "execution_count": 22,
   "metadata": {},
   "outputs": [],
   "source": [
    "X = flt_data.iloc[:,:-1].values\n",
    "y = flt_data.iloc[:,-1].values"
   ]
  },
  {
   "cell_type": "code",
   "execution_count": 37,
   "metadata": {},
   "outputs": [
    {
     "data": {
      "text/plain": [
       "((798, 512), (798,), (343, 512), (343,))"
      ]
     },
     "execution_count": 37,
     "metadata": {},
     "output_type": "execute_result"
    }
   ],
   "source": [
    "trainX, testX, trainY, testY = train_test_split(X, y, test_size=0.3)\n",
    "trainX.shape, trainY.shape, testX.shape, testY.shape"
   ]
  },
  {
   "cell_type": "markdown",
   "metadata": {},
   "source": [
    "<h3>Random Forest</h3>"
   ]
  },
  {
   "cell_type": "code",
   "execution_count": 91,
   "metadata": {},
   "outputs": [
    {
     "data": {
      "text/plain": [
       "GridSearchCV(cv=5,\n",
       "             estimator=RandomForestClassifier(class_weight='balanced_subsample'),\n",
       "             param_grid=[{'min_samples_leaf': [10, 20, 30],\n",
       "                          'min_samples_split': [10, 20, 30],\n",
       "                          'n_estimators': [20, 50, 100]}],\n",
       "             return_train_score=True, scoring='accuracy')"
      ]
     },
     "execution_count": 91,
     "metadata": {},
     "output_type": "execute_result"
    }
   ],
   "source": [
    "from sklearn.ensemble import RandomForestClassifier\n",
    "from sklearn.model_selection import GridSearchCV\n",
    "\n",
    "param_grid = [{\n",
    "    'n_estimators' : [20, 50, 100],\n",
    "    'min_samples_split' : [10, 20, 30],\n",
    "    'min_samples_leaf' : [10, 20, 30]\n",
    "}]\n",
    "\n",
    "rf = RandomForestClassifier(class_weight=\"balanced_subsample\")\n",
    "\n",
    "grid_search = GridSearchCV(rf, param_grid, cv=5, scoring='accuracy', return_train_score=True)\n",
    "\n",
    "grid_search.fit(trainX,trainY)"
   ]
  },
  {
   "cell_type": "code",
   "execution_count": 92,
   "metadata": {},
   "outputs": [
    {
     "data": {
      "text/plain": [
       "0.675503144654088"
      ]
     },
     "execution_count": 92,
     "metadata": {},
     "output_type": "execute_result"
    }
   ],
   "source": [
    "grid_search.best_score_"
   ]
  },
  {
   "cell_type": "code",
   "execution_count": 93,
   "metadata": {},
   "outputs": [
    {
     "data": {
      "text/plain": [
       "0.6676384839650146"
      ]
     },
     "execution_count": 93,
     "metadata": {},
     "output_type": "execute_result"
    }
   ],
   "source": [
    "best_rf = grid_search.best_estimator_\n",
    "best_rf.score(testX, testY)"
   ]
  },
  {
   "cell_type": "code",
   "execution_count": 89,
   "metadata": {},
   "outputs": [
    {
     "data": {
      "text/plain": [
       "(array([ 3,  4,  5,  6,  7,  9, 11, 15, 16, 18, 19, 24, 25, 26]),\n",
       " array([19, 11, 12, 22, 18, 46,  7, 18,  5, 79, 36, 22, 43,  5]))"
      ]
     },
     "execution_count": 89,
     "metadata": {},
     "output_type": "execute_result"
    }
   ],
   "source": [
    "predY_test = best_rf.predict(testX)\n",
    "np.unique(predY_test, return_counts=True)"
   ]
  },
  {
   "cell_type": "code",
   "execution_count": 90,
   "metadata": {},
   "outputs": [
    {
     "data": {
      "text/plain": [
       "(array([ 3,  4,  5,  6,  7,  9, 11, 15, 16, 18, 19, 24, 25, 26]),\n",
       " array([23, 15, 10, 22, 17, 41,  7, 10,  6, 97, 35, 12, 41,  7]))"
      ]
     },
     "execution_count": 90,
     "metadata": {},
     "output_type": "execute_result"
    }
   ],
   "source": [
    "np.unique(testY, return_counts=True)"
   ]
  },
  {
   "cell_type": "code",
   "execution_count": 71,
   "metadata": {},
   "outputs": [
    {
     "data": {
      "text/plain": [
       "0.6653536298128918"
      ]
     },
     "execution_count": 71,
     "metadata": {},
     "output_type": "execute_result"
    }
   ],
   "source": [
    "##f1\n",
    "from sklearn.metrics import f1_score\n",
    "\n",
    "f1_score(testY, predY_test, average='macro')"
   ]
  },
  {
   "cell_type": "markdown",
   "metadata": {},
   "source": [
    "<h3>Neural Network</h3>"
   ]
  },
  {
   "cell_type": "code",
   "execution_count": 50,
   "metadata": {},
   "outputs": [
    {
     "data": {
      "text/plain": [
       "GridSearchCV(cv=3, estimator=MLPClassifier(max_iter=1000),\n",
       "             param_grid=[{'alpha': [0.001, 0.01, 0.1, 1, 10],\n",
       "                          'hidden_layer_sizes': [[798, 798], [798, 798, 798],\n",
       "                                                 [399, 399], [399, 399, 399],\n",
       "                                                 [1596, 1596],\n",
       "                                                 [1596, 1596, 1596]]}],\n",
       "             return_train_score=True, scoring='accuracy')"
      ]
     },
     "execution_count": 50,
     "metadata": {},
     "output_type": "execute_result"
    }
   ],
   "source": [
    "from sklearn.neural_network import MLPClassifier\n",
    "\n",
    "n_features = trainX.shape[0]\n",
    "\n",
    "param_grid = [{\n",
    "    'hidden_layer_sizes' : [[n_features,n_features],                       #two hidden layer with n_features neurons\n",
    "                            [n_features,n_features,n_features],            #three hidden layer with n_features neurons \n",
    "                            [n_features//2,n_features//2],                 #two hidden layer with n_features/2 neurons\n",
    "                            [n_features//2,n_features//2,n_features//2],   #three hidden layer with n_features/2 neurons\n",
    "                            [n_features*2,n_features*2],                   #two hidden layer with n_features*2 neurons\n",
    "                            [n_features*2,n_features*2,n_features*2]],     #three hidden layer with n_features*2 neurons\n",
    "    'alpha' : [0.001, 0.01, 0.1, 1, 10]                                    #regularization terms\n",
    "}]\n",
    "\n",
    "mlp = MLPClassifier(max_iter=1000)\n",
    "\n",
    "grid_search = GridSearchCV(mlp, param_grid, cv=3, scoring='accuracy', return_train_score=True)\n",
    "\n",
    "grid_search.fit(trainX,trainY)"
   ]
  },
  {
   "cell_type": "code",
   "execution_count": 51,
   "metadata": {},
   "outputs": [
    {
     "data": {
      "text/plain": [
       "0.7167919799498746"
      ]
     },
     "execution_count": 51,
     "metadata": {},
     "output_type": "execute_result"
    }
   ],
   "source": [
    "grid_search.best_score_"
   ]
  },
  {
   "cell_type": "code",
   "execution_count": 52,
   "metadata": {},
   "outputs": [
    {
     "data": {
      "text/plain": [
       "0.7026239067055393"
      ]
     },
     "execution_count": 52,
     "metadata": {},
     "output_type": "execute_result"
    }
   ],
   "source": [
    "best_mlp = grid_search.best_estimator_\n",
    "best_mlp.score(testX, testY)"
   ]
  },
  {
   "cell_type": "code",
   "execution_count": 72,
   "metadata": {},
   "outputs": [
    {
     "data": {
      "text/plain": [
       "(array([ 3,  4,  5,  6,  7,  9, 11, 15, 16, 18, 19, 24, 25, 26]),\n",
       " array([ 21,  11,   8,  15,  14,  36,   6,   7,   5, 124,  34,  10,  48,\n",
       "          4]))"
      ]
     },
     "execution_count": 72,
     "metadata": {},
     "output_type": "execute_result"
    }
   ],
   "source": [
    "predY_test = best_mlp.predict(testX)\n",
    "np.unique(predY_test, return_counts=True)"
   ]
  },
  {
   "cell_type": "code",
   "execution_count": 73,
   "metadata": {},
   "outputs": [
    {
     "data": {
      "text/plain": [
       "0.6906096762949474"
      ]
     },
     "execution_count": 73,
     "metadata": {},
     "output_type": "execute_result"
    }
   ],
   "source": [
    "f1_score(testY, predY_test, average='macro')"
   ]
  },
  {
   "cell_type": "markdown",
   "metadata": {},
   "source": [
    "<h3>SVM</h3>"
   ]
  },
  {
   "cell_type": "code",
   "execution_count": 79,
   "metadata": {},
   "outputs": [
    {
     "data": {
      "text/plain": [
       "GridSearchCV(cv=5, estimator=SVC(),\n",
       "             param_grid=[{'C': [0.01, 0.1, 1, 10, 100], 'degree': [2, 3],\n",
       "                          'gamma': [0.001, 0.01, 0.1, 1, 10, 100, 1000],\n",
       "                          'kernel': ['poly', 'rbf']}],\n",
       "             return_train_score=True, scoring='accuracy')"
      ]
     },
     "execution_count": 79,
     "metadata": {},
     "output_type": "execute_result"
    }
   ],
   "source": [
    "from sklearn.svm import SVC\n",
    "\n",
    "svc = SVC()\n",
    "\n",
    "param_grid = [{\n",
    "    'C': [0.01, 0.1, 1, 10, 100],\n",
    "    'kernel' : ['poly','rbf'],\n",
    "    'degree' : [2, 3],\n",
    "    'gamma' : [0.001, 0.01, 0.1, 1, 10, 100, 1000]\n",
    "}]\n",
    "\n",
    "grid_search = GridSearchCV(svc, param_grid, cv=5, scoring='accuracy', return_train_score=True)\n",
    "\n",
    "grid_search.fit(trainX,trainY)"
   ]
  },
  {
   "cell_type": "code",
   "execution_count": 80,
   "metadata": {},
   "outputs": [
    {
     "data": {
      "text/plain": [
       "0.7293867924528302"
      ]
     },
     "execution_count": 80,
     "metadata": {},
     "output_type": "execute_result"
    }
   ],
   "source": [
    "grid_search.best_score_"
   ]
  },
  {
   "cell_type": "code",
   "execution_count": 81,
   "metadata": {},
   "outputs": [
    {
     "data": {
      "text/plain": [
       "0.7055393586005831"
      ]
     },
     "execution_count": 81,
     "metadata": {},
     "output_type": "execute_result"
    }
   ],
   "source": [
    "best_svm1 = grid_search.best_estimator_\n",
    "best_svm1.score(testX, testY)"
   ]
  },
  {
   "cell_type": "code",
   "execution_count": 82,
   "metadata": {},
   "outputs": [
    {
     "data": {
      "text/plain": [
       "(array([ 3,  4,  5,  6,  7,  9, 11, 15, 16, 18, 19, 24, 25, 26]),\n",
       " array([ 24,  10,   7,  18,  15,  46,   7,   9,   5, 114,  31,  13,  39,\n",
       "          5]))"
      ]
     },
     "execution_count": 82,
     "metadata": {},
     "output_type": "execute_result"
    }
   ],
   "source": [
    "predY_test = best_svm1.predict(testX)\n",
    "np.unique(predY_test, return_counts=True)"
   ]
  },
  {
   "cell_type": "code",
   "execution_count": 83,
   "metadata": {},
   "outputs": [
    {
     "data": {
      "text/plain": [
       "0.731279759119256"
      ]
     },
     "execution_count": 83,
     "metadata": {},
     "output_type": "execute_result"
    }
   ],
   "source": [
    "f1_score(testY, predY_test, average='macro')"
   ]
  },
  {
   "cell_type": "markdown",
   "metadata": {},
   "source": [
    "<h4>SVM with Weighted Labels</h4>"
   ]
  },
  {
   "cell_type": "code",
   "execution_count": 62,
   "metadata": {},
   "outputs": [
    {
     "data": {
      "text/plain": [
       "GridSearchCV(cv=5, estimator=SVC(class_weight='balanced'),\n",
       "             param_grid=[{'C': [0.01, 0.1, 1, 10, 100], 'degree': [2, 3],\n",
       "                          'gamma': [0.001, 0.01, 0.1, 1, 10, 100, 1000],\n",
       "                          'kernel': ['poly', 'rbf']}],\n",
       "             return_train_score=True, scoring='accuracy')"
      ]
     },
     "execution_count": 62,
     "metadata": {},
     "output_type": "execute_result"
    }
   ],
   "source": [
    "svc = SVC(class_weight=\"balanced\")\n",
    "\n",
    "param_grid = [{\n",
    "    'C': [0.01, 0.1, 1, 10, 100],\n",
    "    'kernel' : ['poly','rbf'],\n",
    "    'degree' : [2, 3],\n",
    "    'gamma' : [0.001, 0.01, 0.1, 1, 10, 100, 1000]\n",
    "}]\n",
    "\n",
    "grid_search = GridSearchCV(svc, param_grid, cv=5, scoring='accuracy', return_train_score=True)\n",
    "\n",
    "grid_search.fit(trainX,trainY)"
   ]
  },
  {
   "cell_type": "code",
   "execution_count": 63,
   "metadata": {},
   "outputs": [
    {
     "data": {
      "text/plain": [
       "0.7281446540880503"
      ]
     },
     "execution_count": 63,
     "metadata": {},
     "output_type": "execute_result"
    }
   ],
   "source": [
    "grid_search.best_score_"
   ]
  },
  {
   "cell_type": "code",
   "execution_count": 76,
   "metadata": {},
   "outputs": [
    {
     "data": {
      "text/plain": [
       "0.6967930029154519"
      ]
     },
     "execution_count": 76,
     "metadata": {},
     "output_type": "execute_result"
    }
   ],
   "source": [
    "best_svm2 = grid_search.best_estimator_\n",
    "best_svm2.score(testX, testY)"
   ]
  },
  {
   "cell_type": "code",
   "execution_count": 77,
   "metadata": {},
   "outputs": [
    {
     "data": {
      "text/plain": [
       "(array([ 3,  4,  5,  6,  7,  9, 11, 15, 16, 18, 19, 24, 25, 26]),\n",
       " array([ 23,  10,   7,  20,  15,  45,   7,   9,   5, 108,  32,  17,  40,\n",
       "          5]))"
      ]
     },
     "execution_count": 77,
     "metadata": {},
     "output_type": "execute_result"
    }
   ],
   "source": [
    "predY_test = best_svm2.predict(testX)\n",
    "np.unique(predY_test, return_counts=True)"
   ]
  },
  {
   "cell_type": "code",
   "execution_count": 78,
   "metadata": {},
   "outputs": [
    {
     "data": {
      "text/plain": [
       "0.7205669605786553"
      ]
     },
     "execution_count": 78,
     "metadata": {},
     "output_type": "execute_result"
    }
   ],
   "source": [
    "f1_score(testY, predY_test, average='macro')"
   ]
  },
  {
   "cell_type": "code",
   "execution_count": null,
   "metadata": {},
   "outputs": [],
   "source": []
  }
 ],
 "metadata": {
  "kernelspec": {
   "display_name": "Python 3",
   "language": "python",
   "name": "python3"
  },
  "language_info": {
   "codemirror_mode": {
    "name": "ipython",
    "version": 3
   },
   "file_extension": ".py",
   "mimetype": "text/x-python",
   "name": "python",
   "nbconvert_exporter": "python",
   "pygments_lexer": "ipython3",
   "version": "3.7.4"
  }
 },
 "nbformat": 4,
 "nbformat_minor": 2
}
